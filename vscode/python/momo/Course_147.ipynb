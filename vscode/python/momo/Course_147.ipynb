{
 "cells": [
  {
   "cell_type": "code",
   "execution_count": 1,
   "id": "e19bd58d",
   "metadata": {},
   "outputs": [],
   "source": [
    "from selenium import webdriver\n",
    "from selenium.webdriver.support.ui import Select\n",
    "from selenium.webdriver.common.by import By\n",
    "from selenium.webdriver.support.ui import WebDriverWait\n",
    "from selenium.webdriver.support import expected_conditions as EC\n",
    "import time\n",
    "from apscheduler.schedulers.blocking import BlockingScheduler\n",
    "from datetime import datetime\n",
    "driver = webdriver.Chrome()\n",
    "driver.get('https://momoshop.com.tw')"
   ]
  },
  {
   "cell_type": "code",
   "execution_count": 2,
   "id": "6872f476",
   "metadata": {},
   "outputs": [],
   "source": [
    "import json\n",
    "cookie = driver.get_cookies()\n",
    "with open('momo.json', 'w') as f:\n",
    "    f.write(json.dumps(cookie))\n",
    "with open('momo.json', 'r') as f:\n",
    "    data = json.loads(f.read())"
   ]
  },
  {
   "cell_type": "code",
   "execution_count": 3,
   "id": "3b92badd",
   "metadata": {},
   "outputs": [],
   "source": [
    "for c in data:\n",
    "    #print(c)\n",
    "    driver.add_cookie(c)\n",
    "driver.refresh()"
   ]
  },
  {
   "cell_type": "code",
   "execution_count": 4,
   "id": "017d2a95",
   "metadata": {},
   "outputs": [],
   "source": [
    "driver.get('https://www.momoshop.com.tw/mypage/MemberCenter.jsp?func=18&promoNo=20240712093350295')"
   ]
  },
  {
   "cell_type": "code",
   "execution_count": 6,
   "id": "a120a9d3",
   "metadata": {},
   "outputs": [
    {
     "name": "stderr",
     "output_type": "stream",
     "text": [
      "Job \"job (trigger: date[2024-07-21 21:00:00 CST], next run at: 2024-07-21 21:00:00 CST)\" raised an exception\n",
      "Traceback (most recent call last):\n",
      "  File \"c:\\Users\\evan1\\AppData\\Local\\Programs\\Python\\Python312\\Lib\\site-packages\\apscheduler\\executors\\base.py\", line 125, in run_job\n",
      "    retval = job.func(*job.args, **job.kwargs)\n",
      "             ^^^^^^^^^^^^^^^^^^^^^^^^^^^^^^^^^\n",
      "  File \"C:\\Users\\evan1\\AppData\\Local\\Temp\\ipykernel_35640\\2803008139.py\", line 3, in job\n",
      "    job1 = WebDriverWait(driver, 10).until(EC.element_to_be_clickable((By.CSS_SELECTOR, \"button.timecheck\")))\n",
      "           ^^^^^^^^^^^^^^^^^^^^^^^^^^^^^^^^^^^^^^^^^^^^^^^^^^^^^^^^^^^^^^^^^^^^^^^^^^^^^^^^^^^^^^^^^^^^^^^^^^\n",
      "  File \"c:\\Users\\evan1\\AppData\\Local\\Programs\\Python\\Python312\\Lib\\site-packages\\selenium\\webdriver\\support\\wait.py\", line 105, in until\n",
      "    raise TimeoutException(message, screen, stacktrace)\n",
      "selenium.common.exceptions.TimeoutException: Message: \n",
      "Stacktrace:\n",
      "\tGetHandleVerifier [0x00007FF74107EEB2+31554]\n",
      "\t(No symbol) [0x00007FF740FF7EE9]\n",
      "\t(No symbol) [0x00007FF740EB872A]\n",
      "\t(No symbol) [0x00007FF740F08434]\n",
      "\t(No symbol) [0x00007FF740F0853C]\n",
      "\t(No symbol) [0x00007FF740F4F6A7]\n",
      "\t(No symbol) [0x00007FF740F2D06F]\n",
      "\t(No symbol) [0x00007FF740F4C977]\n",
      "\t(No symbol) [0x00007FF740F2CDD3]\n",
      "\t(No symbol) [0x00007FF740EFA33B]\n",
      "\t(No symbol) [0x00007FF740EFAED1]\n",
      "\tGetHandleVerifier [0x00007FF741388B2D+3217341]\n",
      "\tGetHandleVerifier [0x00007FF7413D5AF3+3532675]\n",
      "\tGetHandleVerifier [0x00007FF7413CB0F0+3489152]\n",
      "\tGetHandleVerifier [0x00007FF74112E786+750614]\n",
      "\t(No symbol) [0x00007FF74100376F]\n",
      "\t(No symbol) [0x00007FF740FFEB24]\n",
      "\t(No symbol) [0x00007FF740FFECB2]\n",
      "\t(No symbol) [0x00007FF740FEE17F]\n",
      "\tBaseThreadInitThunk [0x00007FFD61E4257D+29]\n",
      "\tRtlUserThreadStart [0x00007FFD63A6AF28+40]\n",
      "\n"
     ]
    }
   ],
   "source": [
    "\n",
    "\n",
    "def job():\n",
    "    driver.refresh()\n",
    "    job1 = WebDriverWait(driver, 10).until(EC.element_to_be_clickable((By.CSS_SELECTOR, \"button.timecheck\")))\n",
    "    driver.execute_script(\"arguments[0].click();\", job1)\n",
    "# job()\n",
    "\n",
    "\n",
    "scheduler = BlockingScheduler(timezone=\"Asia/Shanghai\")\n",
    "\n",
    "\n",
    "run_date = datetime(2024, 7, 21, 21, 0, 0)\n",
    "scheduler.add_job(job, 'date', run_date=run_date)\n",
    "\n",
    "scheduler.start()\n"
   ]
  }
 ],
 "metadata": {
  "kernelspec": {
   "display_name": "Python 3 (ipykernel)",
   "language": "python",
   "name": "python3"
  },
  "language_info": {
   "codemirror_mode": {
    "name": "ipython",
    "version": 3
   },
   "file_extension": ".py",
   "mimetype": "text/x-python",
   "name": "python",
   "nbconvert_exporter": "python",
   "pygments_lexer": "ipython3",
   "version": "3.12.0"
  }
 },
 "nbformat": 4,
 "nbformat_minor": 5
}
